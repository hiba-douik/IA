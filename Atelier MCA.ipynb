{
 "cells": [
  {
   "cell_type": "markdown",
   "id": "6aa2a082",
   "metadata": {},
   "source": [
    "# Installation de package \"prince\""
   ]
  },
  {
   "cell_type": "code",
   "execution_count": null,
   "id": "29e35726",
   "metadata": {},
   "outputs": [],
   "source": [
    "pip install --user prince"
   ]
  },
  {
   "cell_type": "markdown",
   "id": "6088d827",
   "metadata": {},
   "source": [
    "# Chargement des packages"
   ]
  },
  {
   "cell_type": "code",
   "execution_count": null,
   "id": "4ace39f2",
   "metadata": {},
   "outputs": [],
   "source": [
    "import pandas as pd\n",
    "import prince\n",
    "import seaborn as sns\n",
    "import matplotlib.pyplot as plt\n",
    "from prince import plot\n"
   ]
  },
  {
   "cell_type": "markdown",
   "id": "572fab4f",
   "metadata": {},
   "source": [
    "# Lecture et préparation des données"
   ]
  },
  {
   "cell_type": "code",
   "execution_count": null,
   "id": "fd72aecc",
   "metadata": {},
   "outputs": [],
   "source": [
    "df=pd.read_csv('data_MCA_hobbies.csv',sep=';')\n",
    "df.head()\n",
    "df=df.loc[:,df.columns != 'nb.activitees']\n",
    "df=df.loc[:,df.columns != 'Profession']\n",
    "df.head()"
   ]
  },
  {
   "cell_type": "markdown",
   "id": "92b95b86",
   "metadata": {},
   "source": [
    "# Lancement de la méthode mca"
   ]
  },
  {
   "cell_type": "code",
   "execution_count": null,
   "id": "ecd5473a",
   "metadata": {},
   "outputs": [],
   "source": [
    "#Création de l'objet mca\n",
    "mca = prince.MCA()\n",
    "#Lancement de l'ACM sur le jeu de données\n",
    "mca=mca.fit(df)\n"
   ]
  },
  {
   "cell_type": "markdown",
   "id": "6410c05d",
   "metadata": {},
   "source": [
    "# Visualisation"
   ]
  },
  {
   "cell_type": "code",
   "execution_count": null,
   "id": "9f1da493",
   "metadata": {},
   "outputs": [],
   "source": [
    "# Création de la figure\n",
    "\n",
    "fig, ax = plt.subplots(figsize=(15, 15))\n",
    "\n",
    "#Tracage des axes\n",
    "ax = plot.stylize_axis(ax)\n",
    "\n",
    "#Affichage des profils lignes sur deux dimensions\n",
    "#alpha pour la transparence \n",
    "#row_coords = mca.row_coordinates(df)\n",
    "#ax.scatter(\n",
    " #   row_coords.iloc[:, 0],\n",
    "  #  row_coords.iloc[:, 1],\n",
    "   # s=10,\n",
    "    #label=None,\n",
    "    #color=plot.GRAY['dark'],\n",
    "    #alpha=0.6\n",
    "#)\n",
    "\n",
    "#Profils colonnes\n",
    "col_coords = mca.column_coordinates(df)\n",
    "x = col_coords[0]\n",
    "y = col_coords[1]\n",
    "\n",
    "#Extraction des préfixes à l'aide map et de lambda\n",
    "prefixes = col_coords.index.str.split('_').map(lambda x: x[0])\n",
    "\n",
    "#Affichage des profils colonnes avec leurs modalités\n",
    "for prefix in prefixes.unique():\n",
    "    mask = prefixes == prefix\n",
    "    \n",
    "    ax.scatter(x[mask], y[mask], s=10, label=prefix)\n",
    "\n",
    "    for i, label in enumerate(col_coords[mask].index):\n",
    "        ax.annotate(label, (x[mask][i], y[mask][i]))\n",
    "\n",
    "#Ajout de légende\n",
    "ax.legend()\n",
    "            \n",
    "            \n",
    "\n",
    "ax.set_title('Row and column principal coordinates')\n",
    "ei = [eig / mca.total_inertia_ for eig in mca.eigenvalues_]\n",
    "ax.set_xlabel('Component {} ({:.2f}% inertia)'.format(0, 100 * ei[0]))\n",
    "ax.set_ylabel('Component {} ({:.2f}% inertia)'.format(1, 100 * ei[1]))\n"
   ]
  },
  {
   "cell_type": "code",
   "execution_count": null,
   "id": "1d0767e5",
   "metadata": {},
   "outputs": [],
   "source": [
    "mca.eigenvalues_summary"
   ]
  },
  {
   "cell_type": "code",
   "execution_count": null,
   "id": "aea3b304",
   "metadata": {},
   "outputs": [],
   "source": [
    "mca.row_contributions_.head().style.format('{:.0%}')"
   ]
  },
  {
   "cell_type": "code",
   "execution_count": null,
   "id": "ed43d29f",
   "metadata": {},
   "outputs": [],
   "source": [
    "mca.column_contributions_.head().style.format('{:.0%}')"
   ]
  },
  {
   "cell_type": "code",
   "execution_count": null,
   "id": "e46915b9",
   "metadata": {},
   "outputs": [],
   "source": [
    "#cosinus similarities\n",
    "mca.row_cosine_similarities(df).head()"
   ]
  },
  {
   "cell_type": "code",
   "execution_count": null,
   "id": "6a50e120",
   "metadata": {},
   "outputs": [],
   "source": [
    "mca.column_cosine_similarities(df).head()"
   ]
  },
  {
   "cell_type": "code",
   "execution_count": null,
   "id": "de87fbe1",
   "metadata": {},
   "outputs": [],
   "source": []
  }
 ],
 "metadata": {
  "kernelspec": {
   "display_name": "Python 3 (ipykernel)",
   "language": "python",
   "name": "python3"
  },
  "language_info": {
   "codemirror_mode": {
    "name": "ipython",
    "version": 3
   },
   "file_extension": ".py",
   "mimetype": "text/x-python",
   "name": "python",
   "nbconvert_exporter": "python",
   "pygments_lexer": "ipython3",
   "version": "3.11.5"
  }
 },
 "nbformat": 4,
 "nbformat_minor": 5
}
